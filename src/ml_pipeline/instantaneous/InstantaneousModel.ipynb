{
 "cells": [
  {
   "cell_type": "code",
   "execution_count": null,
   "id": "239927e4-f2b6-4537-980d-b00134f3493d",
   "metadata": {},
   "outputs": [],
   "source": [
    "from pprint import pprint\n",
    "import copy\n",
    "import sys"
   ]
  },
  {
   "cell_type": "code",
   "execution_count": null,
   "id": "dd652b1a-d7d7-4888-a7c0-1ad187975d36",
   "metadata": {},
   "outputs": [],
   "source": [
    "import pandas as pd\n",
    "import numpy as np\n",
    "import sklearn\n",
    "import shap\n",
    "import xgboost as xgb"
   ]
  },
  {
   "cell_type": "code",
   "execution_count": null,
   "id": "7231ca70-204e-47f2-9ae5-fe1e2065e987",
   "metadata": {},
   "outputs": [],
   "source": [
    "sys.path.append(\"/path_to_repo/explaining_cirrus\") # specify directory "
   ]
  },
  {
   "cell_type": "code",
   "execution_count": null,
   "id": "45e01586-263c-4245-b6b2-8154733f3e66",
   "metadata": {},
   "outputs": [],
   "source": [
    "from src.ml_pipeline.instantaneous.ml_preprocess import create_dataset\n",
    "from src.ml_pipeline.instantaneous.experiment import evaluate_model, run_experiment\n"
   ]
  },
  {
   "cell_type": "markdown",
   "id": "54c0279b-666d-4f6d-ab96-7cc5431e0679",
   "metadata": {},
   "source": [
    "# Train & Evaluate ML model trained on instantaneous data"
   ]
  },
  {
   "cell_type": "markdown",
   "id": "0e652e03-3842-4fc2-a906-0fd020140372",
   "metadata": {},
   "source": [
    "## Specify Experiment config\n",
    "\n",
    "* *filters*: conditions the dataset should be filtered on \n",
    "* *predictors*: column names of predictor variables\n",
    "* *predictand*: column name of target variable, must be element of ['iwc', 'icnc_5um']\n",
    "* *preproc_steps*: preprocessing steps to be conducted\n",
    "    * x_log_trans: logarithmic transformation of aerosol variables (recommended)\n",
    "    * y_log_trans: logarithmic transformation of target variable (recommended)\n",
    "    * kickout_outliers: if True, outliers (of target variable) are removed\n",
    "    * oh_encoding: if True, do one-hot encoding of categorical variables\n",
    "* *random_state*: specify random state for splitting trian/val/test splits and model training"
   ]
  },
  {
   "cell_type": "code",
   "execution_count": null,
   "id": "2a31f64b-00e6-4698-a1e4-13577f2d5b93",
   "metadata": {},
   "outputs": [],
   "source": [
    "experiment_config =    {\n",
    "        \"filters\": [\"nightday_flag ==1\"],\n",
    "        \"predictors\": [\"t\",\n",
    "                       \"w\",\n",
    "                       \"wind_speed\",\n",
    "                       \"DU_sup\",\n",
    "                       \"DU_sub\",\n",
    "                       \"SO4\",\n",
    "                       \"dz_top_v2\",\n",
    "                       \"cloud_thickness_v2\",\n",
    "                       \"surface_height\",\n",
    "                       \"season\",\n",
    "                       \"land_water_mask\",\n",
    "                       \"lat_region\"\n",
    "                       ],\n",
    "        \"predictand\": \"icnc_5um\",\n",
    "        \"preproc_steps\": {\n",
    "            \"x_log_trans\": True,\n",
    "            \"y_log_trans\": True,\n",
    "            \"kickout_outliers\": False,\n",
    "            \"oh_encoding\": True\n",
    "        },\n",
    "        \"random_state\": 53\n",
    "    }"
   ]
  },
  {
   "cell_type": "markdown",
   "id": "5be55ebe-6370-47d6-9e61-c721387afca9",
   "metadata": {},
   "source": [
    "## Speciy XGBoost Hyperparameters"
   ]
  },
  {
   "cell_type": "code",
   "execution_count": null,
   "id": "9e3a0d84-14fb-4d08-b602-c7b2b7a74d8c",
   "metadata": {},
   "outputs": [],
   "source": [
    "xgboost_config = {\"objective\": \"reg:squarederror\", 'subsample': 0.4, \"colsample_bytree\": 0.8, 'learning_rate': 0.02,\n",
    "                  'max_depth': 15, 'alpha': 38, 'lambda': 7, 'n_estimators': 250, \"n_jobs\": 32}"
   ]
  },
  {
   "cell_type": "markdown",
   "id": "53fdf9ad-4169-49b6-b27c-bfd32863e892",
   "metadata": {},
   "source": [
    "## Load Dataset"
   ]
  },
  {
   "cell_type": "code",
   "execution_count": null,
   "id": "d5dfba95-bb20-4288-90dc-c8e80aa7eeda",
   "metadata": {},
   "outputs": [],
   "source": [
    "# load instantaneous dataset \n",
    "inst_data_set_path = \"/path_to_instantaneous_data/instantaneous.csv\" # specify path to instantaneous dataset\n",
    "df = pd.read_csv(inst_data_set_path)"
   ]
  },
  {
   "cell_type": "markdown",
   "id": "c62e11bc-3702-47f0-94dd-f4c6d0124823",
   "metadata": {},
   "source": [
    "## Linear Regression Baseline"
   ]
  },
  {
   "cell_type": "code",
   "execution_count": null,
   "id": "af33e0d2-001b-4e5c-976a-c05c4453df90",
   "metadata": {},
   "outputs": [],
   "source": [
    "# create dataset based on experiment config\n",
    "X_train, X_val, X_test, y_train, y_val, y_test = create_dataset(df, **experiment_config)"
   ]
  },
  {
   "cell_type": "code",
   "execution_count": null,
   "id": "fc16713c-6210-4b45-81c2-22265ad3b034",
   "metadata": {},
   "outputs": [],
   "source": [
    "lin_reg = sklearn.linear_model.LinearRegression().fit(X_train.values, y_train.values)"
   ]
  },
  {
   "cell_type": "code",
   "execution_count": null,
   "id": "de36e146-3d73-4c03-b32d-e3f02277fdb5",
   "metadata": {},
   "outputs": [],
   "source": [
    "evaluate_model(lin_reg, X_test, y_test)"
   ]
  },
  {
   "cell_type": "markdown",
   "id": "b4d63335-4504-45d6-9fba-3dab9fb3c742",
   "metadata": {},
   "source": [
    "## Run experiment"
   ]
  },
  {
   "cell_type": "code",
   "execution_count": null,
   "id": "0ed2e5d3-24bb-437d-9d0f-6bb599a37102",
   "metadata": {},
   "outputs": [],
   "source": [
    "model, validate_df = run_experiment(df, xgboost_config, experiment_config)"
   ]
  },
  {
   "cell_type": "markdown",
   "id": "5df5dbb2-fb0b-4ec7-b5a3-23a68178bed3",
   "metadata": {},
   "source": [
    "# XAI"
   ]
  },
  {
   "cell_type": "markdown",
   "id": "6dcbfacb-de80-4df2-a28d-fdbddd980f72",
   "metadata": {},
   "source": [
    "## Helpers & setup"
   ]
  },
  {
   "cell_type": "code",
   "execution_count": null,
   "id": "63ab7bf4-fc84-403a-8299-c56aa8a2c036",
   "metadata": {},
   "outputs": [],
   "source": [
    "VARIABLE_UNITS = {\n",
    "    \"iwc\":\"mg m⁻³\",\n",
    "    \"reffcli\": \"um\",\n",
    "    \"icnc_5um\": \"cm⁻³\",\n",
    "    \"icnc_100um\": \"cm⁻³\",\n",
    "    \"SO4\":\"mg kg⁻¹\",\n",
    "    \"DU\":\"mg kg⁻¹\",\n",
    "    \"DU_sub\":\"mg kg⁻¹\",\n",
    "    \"DU_sup\":\"mg kg⁻¹\",\n",
    "    \"lev\":\"m\",\n",
    "    \"cloud_thickness\":\"m\",\n",
    "    \"wind_speed\": \"m s⁻¹\",\n",
    "    \"w\": \"Pa s⁻¹\",\n",
    "    \"t\": \"K\",\n",
    "    \"surface_height\": \"m\",\n",
    "}"
   ]
  },
  {
   "cell_type": "code",
   "execution_count": null,
   "id": "2527ac64-368a-4e61-9aa5-3e06eb92e161",
   "metadata": {},
   "outputs": [],
   "source": [
    "# create dataset based on experiment config\n",
    "X_train, X_val, X_test, y_train, y_val, y_test = create_dataset(df, **experiment_config)"
   ]
  },
  {
   "cell_type": "code",
   "execution_count": null,
   "id": "38c0a3c3-8204-4593-adc2-7ec1b7d8558e",
   "metadata": {},
   "outputs": [],
   "source": [
    "# discriminate caterforical and continuous features, needed for LIME and XAI evaluation metrics\n",
    "feature_type = [\"c\" for i in range(9)] + [\"d\" for i in range(19)] # first 8 features are continuous, the rest are the one-hot encoded categorical features\n",
    "continuous_features = np.array([i == 'c' for i in feature_type])\n",
    "discrete_features = np.array([i == 'd' for i in feature_type])"
   ]
  },
  {
   "cell_type": "markdown",
   "id": "7ba57fbd-922b-42a8-a30f-907d581a9262",
   "metadata": {},
   "source": [
    "## Calculate Attributions"
   ]
  },
  {
   "cell_type": "code",
   "execution_count": null,
   "id": "b477e9c3-d00d-4805-9f90-3b48f5ea5eaa",
   "metadata": {},
   "outputs": [],
   "source": [
    "# create np.array from dataframes\n",
    "X_test_sample = X_test.values\n",
    "y_test_sample = y_test.values"
   ]
  },
  {
   "cell_type": "code",
   "execution_count": null,
   "id": "dd3dc16c-5be2-431d-815b-a510c785137f",
   "metadata": {},
   "outputs": [],
   "source": [
    "# use an independent masker\n",
    "masker = shap.maskers.Independent(X_train,max_samples=1000)"
   ]
  },
  {
   "cell_type": "markdown",
   "id": "811a781e-9676-4343-a611-3a0d123a5ff4",
   "metadata": {},
   "source": [
    "### Random explainer"
   ]
  },
  {
   "cell_type": "code",
   "execution_count": null,
   "id": "262a3b66-ddbc-4042-bffc-59567ae7ae6f",
   "metadata": {},
   "outputs": [],
   "source": [
    "random_explainer = shap.explainers.other.Random(model.predict, masker)"
   ]
  },
  {
   "cell_type": "code",
   "execution_count": null,
   "id": "a0dbdb75-d008-453c-956c-34bd4fb9558a",
   "metadata": {},
   "outputs": [],
   "source": [
    "random_exps = random_explainer(X_test_sample).values"
   ]
  },
  {
   "cell_type": "code",
   "execution_count": null,
   "id": "188a7a12-701b-4ec2-bbb4-e2bb719f406e",
   "metadata": {
    "tags": []
   },
   "outputs": [],
   "source": [
    "shap.summary_plot(random_exps,X_test_sample, feature_names=X_train.columns, plot_type=\"bar\")"
   ]
  },
  {
   "cell_type": "markdown",
   "id": "3ecc7064-4897-4dc7-8510-4660a8d103cf",
   "metadata": {
    "tags": []
   },
   "source": [
    "### SHAP"
   ]
  },
  {
   "cell_type": "code",
   "execution_count": null,
   "id": "b04eda7f-256a-460e-8a78-f48693fa564b",
   "metadata": {},
   "outputs": [],
   "source": [
    "# calculate shap_values\n",
    "shap_explainer = shap.TreeExplainer(model)\n",
    "print(\"created explainer\")\n",
    "shap_values = shap_explainer.shap_values(X_test_sample, approximate=False, check_additivity=True)\n",
    "print(\"calculated {} shap values\".format(shap_values.shape[0]))"
   ]
  },
  {
   "cell_type": "markdown",
   "id": "fe2a21d3-8ecf-42c6-ac24-8c7b8d69bd0c",
   "metadata": {
    "tags": []
   },
   "source": [
    "### LIME"
   ]
  },
  {
   "cell_type": "code",
   "execution_count": null,
   "id": "b5625e6e-e86e-4f43-b463-72acdb9a8a11",
   "metadata": {},
   "outputs": [],
   "source": [
    "lime_explainer = shap.explainers.other.LimeTabular(model.predict, X_test, mode=\"regression\")"
   ]
  },
  {
   "cell_type": "code",
   "execution_count": null,
   "id": "9518d500-90bc-40bc-aad0-da093f6cd134",
   "metadata": {},
   "outputs": [],
   "source": [
    "cat_indices = list(np.where(discrete_features)[0])"
   ]
  },
  {
   "cell_type": "code",
   "execution_count": null,
   "id": "cde10a8b-9630-4a1c-bdf1-69870e6127c4",
   "metadata": {},
   "outputs": [],
   "source": [
    "lime_explainer.explainer.categorical_features = cat_indices"
   ]
  },
  {
   "cell_type": "code",
   "execution_count": null,
   "id": "2da3c998-4663-44ad-b57a-ca5eb4767f6a",
   "metadata": {},
   "outputs": [],
   "source": [
    "lime_attributions = lime_explainer.attributions(X_test_sample)"
   ]
  },
  {
   "cell_type": "markdown",
   "id": "19f5cc78-9a16-4658-a6dc-ff01eb16cb7b",
   "metadata": {},
   "source": [
    "## Evaluate attribution methods"
   ]
  },
  {
   "cell_type": "code",
   "execution_count": null,
   "id": "4ace5c22-8f24-4dae-94c8-180463fd6ad2",
   "metadata": {},
   "outputs": [],
   "source": [
    "from src.ml_pipeline.xai_evaluation.xai_evaluation_metrics import eval_faithfulness, evaluate_stability_metric, MarginalPerturbation"
   ]
  },
  {
   "cell_type": "code",
   "execution_count": null,
   "id": "353a5f79-68dc-40d6-8de7-3b9fc5b78933",
   "metadata": {},
   "outputs": [],
   "source": [
    "# calculate background dataset as means per column\n",
    "base_values = np.mean(X_test.values,0) * continuous_features + np.round(np.mean(X_test.values,0) ,0) * discrete_features"
   ]
  },
  {
   "cell_type": "markdown",
   "id": "b5c2087b-75a7-4d22-a3af-26988b5dd090",
   "metadata": {},
   "source": [
    "### Faithfulness metrics\n",
    "\n",
    "* Estimated Faithfulness\n",
    "\n",
    "adapted from Alvarez-Melis and Jaakkola https://doi.org/10.48550/arXiv.1806.07538"
   ]
  },
  {
   "cell_type": "code",
   "execution_count": null,
   "id": "5459f1af-c7b2-4ec2-aacc-2d9f96e18c8a",
   "metadata": {},
   "outputs": [],
   "source": [
    "# shap faithfulness\n",
    "print(\"shap faithfulness\")\n",
    "shap_pred_corr_faith = eval_faithfulness(X_test_sample, y_test_sample, shap_values, model, base_values)\n",
    "print(\"\\n\")\n",
    "\n",
    "# lime faithfulness\n",
    "print(\"lime faithfulness\")\n",
    "lime_pred_corr_faith = eval_faithfulness(X_test_sample, y_test_sample, lime_attributions, model, base_values)\n",
    "print(\"\\n\")\n",
    "\n",
    "# lime faithfulness\n",
    "print(\"random faithfulness\")\n",
    "random_pred_corr_faith = eval_faithfulness(X_test_sample, y_test_sample, random_exps, model, base_values)\n",
    "print(\"\\n\")"
   ]
  },
  {
   "cell_type": "code",
   "execution_count": null,
   "id": "8f2f8598-1648-4d59-8892-f2cba16edb09",
   "metadata": {},
   "outputs": [],
   "source": [
    "faithfulness_df = pd.DataFrame(data=np.array((shap_pred_corr_faith, lime_pred_corr_faith, random_pred_corr_faith)).T, columns=[\"SHAP\", \"LIME\", \"RandomBaseline\"])"
   ]
  },
  {
   "cell_type": "markdown",
   "id": "0a51bf4f-d2fd-4dcf-b965-c55d25d4f10f",
   "metadata": {},
   "source": [
    "### Stability\n",
    "\n",
    "* Relative Input Stability\n",
    "* Relative Outout Stability\n",
    "\n",
    "Adapted from Agarwal et al. 2022 https://doi.org/10.48550/arXiv.2203.06877"
   ]
  },
  {
   "cell_type": "code",
   "execution_count": null,
   "id": "7eee90f4-ef56-46db-8dae-ccdb895cd6f5",
   "metadata": {},
   "outputs": [],
   "source": [
    "# for each column draw from marginal distribution with mean=0 and std=(columns std / 100) to create marginal samples\n",
    "col_dist_stds = []\n",
    "for col in X_train:\n",
    "    col_dist_stds.append(np.std(X_train)[col]/100)\n",
    "\n",
    "perturber = MarginalPerturbation(col_dist_stds)"
   ]
  },
  {
   "cell_type": "code",
   "execution_count": null,
   "id": "6b02e3db-dc45-4d64-ba69-fb86790bbb5c",
   "metadata": {
    "tags": []
   },
   "outputs": [],
   "source": [
    "ris_shap_stability = []\n",
    "ros_shap_stability = []\n",
    "ris_lime_stability = []\n",
    "ros_lime_stability = []\n",
    "ris_rand_stability = []\n",
    "ros_rand_stability = []\n",
    "\n",
    "# eval stabilit metrics for each xai method\n",
    "for sample in X_test_sample[:10]:\n",
    "    # shap\n",
    "    ris_shap_stability.append(evaluate_stability_metric(sample, model, shap_explainer, perturber, feature_mask=continuous_features, stability_metric=\"RIS\"))\n",
    "    ros_shap_stability.append(evaluate_stability_metric(sample, model, shap_explainer, perturber, feature_mask=continuous_features, eps=0.0001, stability_metric=\"ROS\"))\n",
    "    \n",
    "    # lime\n",
    "    ris_lime_stability.append(evaluate_stability_metric(sample, model, lime_explainer, perturber, feature_mask=continuous_features, stability_metric=\"RIS\"))\n",
    "    ros_lime_stability.append(evaluate_stability_metric(sample, model, lime_explainer, perturber, feature_mask=continuous_features, eps=0.0001, stability_metric=\"ROS\"))\n",
    "    \n",
    "    # random\n",
    "    ris_rand_stability.append(evaluate_stability_metric(sample, model, random_explainer, perturber, feature_mask=continuous_features, stability_metric=\"RIS\"))\n",
    "    ros_rand_stability.append(evaluate_stability_metric(sample, model, random_explainer, perturber, feature_mask=continuous_features, eps=0.0001, stability_metric=\"ROS\"))\n",
    "    \n",
    "    "
   ]
  },
  {
   "cell_type": "code",
   "execution_count": null,
   "id": "f2a993c2-9e9d-4ce3-a748-e7512f971754",
   "metadata": {},
   "outputs": [],
   "source": [
    "ris_stability_df = pd.DataFrame(data=np.array((ris_shap_stability, ris_lime_stability,ris_rand_stability)).T, columns=[\"SHAP\", \"LIME\",\"RandomBaseline\"])\n",
    "ris_stability_df.insert(0,\"metric\",\"ris\")\n",
    "\n",
    "ros_stability_df = pd.DataFrame(data=np.array((ros_shap_stability,ros_lime_stability,ros_rand_stability)).T, columns=[\"SHAP\", \"LIME\",\"RandomBaseline\"])\n",
    "ros_stability_df.insert(0,\"metric\",\"ros\")"
   ]
  },
  {
   "cell_type": "code",
   "execution_count": null,
   "id": "b0f38229-6a57-4620-aa66-742428c568e5",
   "metadata": {},
   "outputs": [],
   "source": [
    "ris_stability_df"
   ]
  },
  {
   "cell_type": "markdown",
   "id": "2fdaf3d5-5852-4c23-abe3-2c3e53ed9ecd",
   "metadata": {},
   "source": [
    "### Create XAI Evaluation Plot"
   ]
  },
  {
   "cell_type": "code",
   "execution_count": null,
   "id": "e09c5bd5-7c10-42f7-9062-abd6a1225dba",
   "metadata": {},
   "outputs": [],
   "source": [
    "import hvplot.pandas\n",
    "import holoviews as hv"
   ]
  },
  {
   "cell_type": "code",
   "execution_count": null,
   "id": "b7a2fe53-fac9-4458-a9bb-b2bed9f25360",
   "metadata": {},
   "outputs": [],
   "source": [
    "plt_options = {'fontsize': {'xlabel': '30px',\n",
    "  'ylabel': '25px',\n",
    "  'ticks': '20px'},\n",
    " 'legend': False,  \n",
    " 'box_color': 'Variable',\n",
    " 'cmap': 'Set3',\n",
    " 'outlier_alpha':0.001,              \n",
    " 'box_width':0.8, \n",
    " 'width': 500}"
   ]
  },
  {
   "cell_type": "code",
   "execution_count": null,
   "id": "db6c8ba9-d8bc-4e9e-bdb3-271ebfa9fc55",
   "metadata": {},
   "outputs": [],
   "source": [
    "ris_plt = ris_stability_df.hvplot.box(logy=True,xlabel=\"(A) Relative Input Stability\", ylabel=\"Stability\", yticks=(1e-2,1e-1,1e0,1e1,1e2,1e3,1e4,1e5,1e6),ylim=[1e-3,1e6],**plt_options)\n",
    "ros_plt = ros_stability_df.hvplot.box(logy=True,xlabel=\"(B) Relative Output Stability\", ylabel=\"Stability\", yticks=(1e-2,1e-1,1e0,1e1,1e2,1e3,1e4,1e5,1e6),ylim=[1e-3,1e6], **plt_options) \n",
    "faith_plt = faithfulness_df.hvplot.box(xlabel=\"(C) Estimated Faithfulness\", shared_axes=False, ylabel=\"Estimated Faithfulness\", yticks=[-1,-0.5,0,0.5,1], **plt_options)"
   ]
  },
  {
   "cell_type": "code",
   "execution_count": null,
   "id": "87d45c98-57c4-4c5f-a8a3-c9bc2337c31e",
   "metadata": {},
   "outputs": [],
   "source": [
    "xai_eval_plt = ris_plt + ros_plt + faith_plt"
   ]
  },
  {
   "cell_type": "code",
   "execution_count": null,
   "id": "ec689c33-1502-4bb8-aea1-05c5f7f4f880",
   "metadata": {},
   "outputs": [],
   "source": [
    "xai_eval_plt"
   ]
  },
  {
   "cell_type": "markdown",
   "id": "be19b2dc-6efc-43bb-b306-fb4adf59bd6a",
   "metadata": {},
   "source": [
    "## SHAP deepdive"
   ]
  },
  {
   "cell_type": "markdown",
   "id": "7b6c71b2-7791-487f-8d22-fb3aafbbc5c9",
   "metadata": {},
   "source": [
    "### Absolute SHAP values"
   ]
  },
  {
   "cell_type": "code",
   "execution_count": null,
   "id": "950e07c7-f02a-4906-a0e9-8c3e188b7eb2",
   "metadata": {},
   "outputs": [],
   "source": [
    "# sum shap values of categorical features\n",
    "season_idx = [9,12]\n",
    "land_water_mask_idx = [13,21]\n",
    "region_idx = [22,30]\n",
    "\n",
    "season_shap_values = np.sum(shap_values[:,9:12],axis=1).reshape(-1,1)\n",
    "lwm_shap_values = np.sum(shap_values[:,13:21],axis=1).reshape(-1,1)\n",
    "region_shap_values = np.sum(shap_values[:,22:30],axis=1).reshape(-1,1)\n",
    "\n",
    "agg_shap = np.concatenate((shap_values[:,:9],season_shap_values,lwm_shap_values,region_shap_values),axis=1)"
   ]
  },
  {
   "cell_type": "code",
   "execution_count": null,
   "id": "17f8348e-40e3-4f55-8118-7dde9767d61d",
   "metadata": {},
   "outputs": [],
   "source": [
    "fnames = list(X_train.columns[:9]) + [\"season\", \"land_water_mask\", \"region\"]"
   ]
  },
  {
   "cell_type": "code",
   "execution_count": null,
   "id": "a9093241-bd1d-4ca9-9fce-14fae662a3bf",
   "metadata": {},
   "outputs": [],
   "source": [
    "fnames = [\"Temperature\", \"Vertical velocity\", \"Horizontal wind speed\", \"Distance from cloud top\", \"Cloud thickness\", \"Surface height\", \"Dust > 1 um\", \"Dust < 1 um\", \"SO4\", \"Season\", \"Land water mask\", \"Region\"]"
   ]
  },
  {
   "cell_type": "code",
   "execution_count": null,
   "id": "4ddb39db-1086-4e44-aadf-732deac6e959",
   "metadata": {},
   "outputs": [],
   "source": [
    "shap.summary_plot(agg_shap, feature_names=fnames, plot_type=\"bar\", show=False)\n",
    "pl.xlabel(\"Mean absolute SHAP value\",fontsize=20)\n",
    "pl.xticks(fontsize=15)\n",
    "pl.yticks(fontsize=15)\n",
    "#pl.savefig(\"../PaperPlots/ClimateInformaticsPaper/absolute_shap_icnc.pdf\", format='pdf', dpi=600, bbox_inches='tight')\n",
    "pl.show()"
   ]
  },
  {
   "cell_type": "markdown",
   "id": "4bffd461-00c0-4d55-b862-43eb22f217e0",
   "metadata": {},
   "source": [
    "### SHAP dependence plots"
   ]
  },
  {
   "cell_type": "code",
   "execution_count": null,
   "id": "e897f77b-7087-4ae4-993e-e994644b20ff",
   "metadata": {},
   "outputs": [],
   "source": [
    "VARIABLE_LABELS = {\n",
    "    \"SO4_log\":\"SO4 [mg m⁻³]\",\n",
    "    \"DU\":\"mg kg⁻¹\",\n",
    "    \"DU_sub_log\":\"DUST < 1um [mg m⁻³]\",\n",
    "    \"DU_sup_log\":\"DUST > 1um [mg m⁻³]\",\n",
    "    \"dz_top_v2\": \"Distance from cloud top [m]\",\n",
    "    \"cloud_thickness_v2\":\"Cloud thickness [m]\",\n",
    "    \"wind_speed\": \"Horizontal wind speed [m s⁻¹]\",\n",
    "    \"w\": \"Vertical velocity [Pa s⁻¹]\",\n",
    "    \"t\": \"Temperature [K]\",\n",
    "    \"surface_height\": \"Surface height [m]\",\n",
    "}"
   ]
  },
  {
   "cell_type": "code",
   "execution_count": null,
   "id": "d03146a8-6d57-4a3e-8c99-2c7c9dee9f5f",
   "metadata": {},
   "outputs": [],
   "source": [
    "# variables on x-axis are rounded to be plottable\n",
    "round_dict = {'t':0, 'w':1, 'wind_speed':0, 'dz_top_v2':-2, 'cloud_thickness_v2':-2,\n",
    "       'surface_height':-2, 'DU_sup_log':1, 'DU_sub_log':1, 'SO4_log':1}"
   ]
  },
  {
   "cell_type": "code",
   "execution_count": null,
   "id": "c0eddbeb-2b98-4860-9d24-1fbdac168a36",
   "metadata": {},
   "outputs": [],
   "source": [
    "# calculate shap values for icnc and iwc predictors first → we want to plot both shap dependencies into the same plot\n",
    "# i.e. train models for iwc & icnc_5um by changing the predictand key in the experiment config\n",
    "icnc_shap_values = shap_values\n",
    "iwc_shap_values =  shap_values"
   ]
  },
  {
   "cell_type": "code",
   "execution_count": null,
   "id": "21f5694e-15b4-4aca-ba01-8ecf6b16ec98",
   "metadata": {},
   "outputs": [],
   "source": [
    "min_count = 5000\n",
    "\n",
    "plt_options = {'fontsize': {'xlabel': '30px',\n",
    "  'ylabel': '25px',\n",
    "  'ticks': '20px',\n",
    "  'legend': '30px' }, \n",
    " 'cmap': 'Set3',\n",
    " 'legend': False,\n",
    " 'shared_axes':False}\n",
    "\n",
    "hv_line_plt = hv.HLine(0).opts(line_width=0.5, color=\"grey\")\n",
    "\n",
    "for var_index, var_name in enumerate(X_train.columns[:1]):\n",
    "    print(var_index, var_name)\n",
    "    #var_index=6\n",
    "    pds_shap= pd.DataFrame(np.array((X_test_sample[:,var_index].round(round_dict[var_name]),iwc_shap_values[:,var_index], icnc_shap_values[:,var_index])).T, columns=[\"variable\",\"iwc_shap\",\"icnc_shap\"])\n",
    "    mean = pds_shap.groupby(\"variable\").mean()\n",
    "    sd = pds_shap.groupby(\"variable\").std().fillna(0)\n",
    "    \n",
    "    ylabel = \"SHAP value\"\n",
    "    xlabel = VARIABLE_LABELS[var_name] \n",
    "    \n",
    "    for pred in [\"iwc\",\"icnc\"]:\n",
    "        mean[f\"{pred}_lower\"] = mean[f\"{pred}_shap\"] - sd[f\"{pred}_shap\"]\n",
    "        mean[f\"{pred}_upper\"] = mean[f\"{pred}_shap\"] + sd[f\"{pred}_shap\"]\n",
    "        mean[f\"{pred}_sd\"] =      sd[f\"{pred}_shap\"]\n",
    "    mean[\"count\"] = pds_shap.groupby(\"variable\").count().iloc[:,0]    \n",
    "    mean = mean.reset_index()\n",
    "    mean = mean.query(f\"count>{min_count}\")\n",
    "    \n",
    "    if \"log\" in var_name:\n",
    "        mean[\"variable\"] = 10**mean[\"variable\"]\n",
    "        plt_options[\"logx\"]=True\n",
    "    else:\n",
    "        plt_options[\"logx\"]=False\n",
    "    \n",
    "    # plot with legend\n",
    "    #mean_plt = mean.rename(columns={\"iwc_shap\":\"IWC\",\"icnc_shap\":\"Nᵢ\"}).hvplot.line(x=\"variable\", y=[\"IWC\",\"Nᵢ\"], line_width=3, xlabel=xlabel, ylabel=ylabel, **plt_options) * mean.hvplot.area(x=\"variable\",y=\"iwc_lower\",y2=\"iwc_upper\", line_alpha=0, fill_alpha=0.2,stacked=False) * mean.hvplot.area(x=\"variable\",y=\"icnc_lower\",y2=\"icnc_upper\", line_alpha=0, fill_alpha=0.2,stacked=False) * hv_line_plt\n",
    "    \n",
    "    mean_plt = mean.hvplot.line(x=\"variable\", y=[\"iwc_shap\",\"icnc_shap\"], line_width=3, xlabel=xlabel, ylabel=ylabel, **plt_options) * mean.hvplot.area(x=\"variable\",y=\"iwc_lower\",y2=\"iwc_upper\", line_alpha=0, fill_alpha=0.2,stacked=False) * mean.hvplot.area(x=\"variable\",y=\"icnc_lower\",y2=\"icnc_upper\", line_alpha=0, fill_alpha=0.2,stacked=False) * hv_line_plt\n",
    "    # marginal distribution\n",
    "    y_dist_plt = hv.Distribution(pds_shap.iwc_shap.values,kdims =[\"y\"]).opts(width=80, xaxis=None,yaxis=None, alpha=0.5) * hv.Distribution(pds_shap.icnc_shap.values,kdims =[\"y\"]).opts(width=80, xaxis=None,yaxis=None, alpha=0.5)\n",
    "    x_dist_plt = hv.Distribution(X_test_sample[:,var_index],kdims = [\"x\"]).opts(height=80, xaxis=None,yaxis=None, color=\"grey\")\n",
    "    \n",
    "    whole_plt = mean_plt << y_dist_plt << x_dist_plt\n",
    "    display(whole_plt)"
   ]
  }
 ],
 "metadata": {
  "kernelspec": {
   "display_name": "Python [conda env:xarray]",
   "language": "python",
   "name": "conda-env-xarray-py"
  },
  "language_info": {
   "codemirror_mode": {
    "name": "ipython",
    "version": 3
   },
   "file_extension": ".py",
   "mimetype": "text/x-python",
   "name": "python",
   "nbconvert_exporter": "python",
   "pygments_lexer": "ipython3",
   "version": "3.9.7"
  }
 },
 "nbformat": 4,
 "nbformat_minor": 5
}
